{
 "cells": [
  {
   "cell_type": "markdown",
   "id": "7dc4e485-6302-4306-9421-d829d1987842",
   "metadata": {},
   "source": [
    "https://git.earthdata.nasa.gov/projects/LPDUR/repos/gedi-finder-tutorial-python/browse/GEDI_Finder_Tutorial_Python.ipynb"
   ]
  },
  {
   "cell_type": "code",
   "execution_count": 21,
   "id": "759b8e42-81c7-4914-92ef-9df0ec0eaf07",
   "metadata": {},
   "outputs": [],
   "source": [
    "import requests as r\n",
    "from datetime import datetime\n",
    "import os"
   ]
  },
  {
   "cell_type": "markdown",
   "id": "38c35ad6-f5aa-4893-9fae-11eb62981d26",
   "metadata": {},
   "source": [
    "2. define a function called gedi_finder that takes two user-submitted input values, a product and a bbox."
   ]
  },
  {
   "cell_type": "code",
   "execution_count": 1,
   "id": "ecf7af15-8050-4273-a6c5-876308f252a1",
   "metadata": {},
   "outputs": [],
   "source": [
    "def gedi_finder(product, bbox):\n",
    "    \n",
    "    # Define the base CMR granule search url, including LPDAAC provider name and max page size (2000 is the max allowed)\n",
    "    cmr = \"https://cmr.earthdata.nasa.gov/search/granules.json?pretty=true&provider=LPDAAC_ECS&page_size=2000&concept_id=\"\n",
    "    \n",
    "    # Set up dictionary where key is GEDI shortname + version\n",
    "    concept_ids = {'GEDI01_B.002': 'C1908344278-LPDAAC_ECS', \n",
    "                   'GEDI02_A.002': 'C1908348134-LPDAAC_ECS', \n",
    "                   'GEDI02_B.002': 'C1908350066-LPDAAC_ECS'}\n",
    "    \n",
    "    # CMR uses pagination for queries with more features returned than the page size\n",
    "    page = 1\n",
    "    bbox = bbox.replace(' ', '')  # remove any white spaces\n",
    "    try:\n",
    "        # Send GET request to CMR granule search endpoint w/ product concept ID, bbox & page number, format return as json\n",
    "        cmr_response = r.get(f\"{cmr}{concept_ids[product]}&bounding_box={bbox}&pageNum={page}\").json()['feed']['entry']\n",
    "        \n",
    "        # If 2000 features are returned, move to the next page and submit another request, and append to the response\n",
    "        while len(cmr_response) % 2000 == 0:\n",
    "            page += 1\n",
    "            cmr_response += r.get(f\"{cmr}{concept_ids[product]}&bounding_box={bbox}&pageNum={page}\").json()['feed']['entry']\n",
    "        \n",
    "        # CMR returns more info than just the Data Pool links, below use list comprehension to return a list of DP links\n",
    "        return [c['links'][0]['href'] for c in cmr_response]\n",
    "    except:\n",
    "        # If the request did not complete successfully, print out the response from CMR\n",
    "        print(r.get(f\"{cmr}{concept_ids[product]}&bounding_box={bbox.replace(' ', '')}&pageNum={page}\").json())"
   ]
  },
  {
   "cell_type": "markdown",
   "id": "9b6ec12b-94f5-4a31-a1d3-78b8bae6be9d",
   "metadata": {},
   "source": [
    "3. set the two required inputs to the gedi_finder function to variables."
   ]
  },
  {
   "cell_type": "code",
   "execution_count": 23,
   "id": "5dd722f5-84af-4ebb-9570-4a1476b4747d",
   "metadata": {},
   "outputs": [],
   "source": [
    "# User-provided inputs (UPDATE FOR YOUR DESIRED PRODUCT AND BOUNDING BOX REGION OF INTEREST)\n",
    "product = 'GEDI02_B.002'           # Options include 'GEDI01_B.002', 'GEDI02_A.002', 'GEDI02_B.002'\n",
    "bbox = '-116.85937937,43.06087509,-116.68789263,43.31306195' # bounding box coordinates in LL Longitude, LL Latitude, UR Longitude, UR Latitude format"
   ]
  },
  {
   "cell_type": "code",
   "execution_count": 24,
   "id": "40b70b83-77c0-4498-a1f3-733a34a95012",
   "metadata": {},
   "outputs": [
    {
     "name": "stdout",
     "output_type": "stream",
     "text": [
      "74 GEDI02_B.002 Version 2 granules found.\n"
     ]
    }
   ],
   "source": [
    "granules = gedi_finder(product, bbox)\n",
    "print(f\"{len(granules)} {product} Version 2 granules found.\")"
   ]
  },
  {
   "cell_type": "code",
   "execution_count": 25,
   "id": "506659d2-b7b3-4f79-81c4-3be5d78e9f43",
   "metadata": {},
   "outputs": [
    {
     "name": "stdout",
     "output_type": "stream",
     "text": [
      "https://e4ftl01.cr.usgs.gov//GEDI_L1_L2/GEDI/GEDI02_B.002/2019.05.17/GEDI02_B_2019137101716_O02416_03_T03984_02_003_01_V002.h5\n",
      "https://e4ftl01.cr.usgs.gov//GEDI_L1_L2/GEDI/GEDI02_B.002/2019.05.22/GEDI02_B_2019142030259_O02489_02_T00140_02_003_01_V002.h5\n",
      "https://e4ftl01.cr.usgs.gov//GEDI_L1_L2/GEDI/GEDI02_B.002/2019.05.24/GEDI02_B_2019144073502_O02523_03_T02408_02_003_01_V002.h5\n",
      "https://e4ftl01.cr.usgs.gov//GEDI_L1_L2/GEDI/GEDI02_B.002/2019.06.01/GEDI02_B_2019152224635_O02657_02_T05679_02_003_01_V002.h5\n",
      "https://e4ftl01.cr.usgs.gov//GEDI_L1_L2/GEDI/GEDI02_B.002/2019.06.18/GEDI02_B_2019169212519_O02920_03_T05407_02_003_01_V002.h5\n",
      "https://e4ftl01.cr.usgs.gov//GEDI_L1_L2/GEDI/GEDI02_B.002/2019.06.27/GEDI02_B_2019178123620_O03054_02_T01716_02_003_01_V002.h5\n",
      "https://e4ftl01.cr.usgs.gov//GEDI_L1_L2/GEDI/GEDI02_B.002/2019.07.14/GEDI02_B_2019195111704_O03317_03_T03831_02_003_01_V002.h5\n",
      "https://e4ftl01.cr.usgs.gov//GEDI_L1_L2/GEDI/GEDI02_B.002/2019.07.23/GEDI02_B_2019204022957_O03451_02_T04103_02_003_01_V002.h5\n",
      "https://e4ftl01.cr.usgs.gov//GEDI_L1_L2/GEDI/GEDI02_B.002/2019.08.06/GEDI02_B_2019218203648_O03680_02_T02986_02_003_01_V002.h5\n",
      "https://e4ftl01.cr.usgs.gov//GEDI_L1_L2/GEDI/GEDI02_B.002/2019.08.21/GEDI02_B_2019233144710_O03909_02_T01410_02_003_01_V002.h5\n",
      "https://e4ftl01.cr.usgs.gov//GEDI_L1_L2/GEDI/GEDI02_B.002/2019.10.05/GEDI02_B_2019278205038_O04611_02_T04409_02_003_01_V002.h5\n",
      "https://e4ftl01.cr.usgs.gov//GEDI_L1_L2/GEDI/GEDI02_B.002/2019.10.11/GEDI02_B_2019284234932_O04706_03_T00832_02_003_01_V002.h5\n",
      "https://e4ftl01.cr.usgs.gov//GEDI_L1_L2/GEDI/GEDI02_B.002/2019.10.28/GEDI02_B_2019301115353_O04962_02_T04256_02_003_01_V002.h5\n",
      "https://e4ftl01.cr.usgs.gov//GEDI_L1_L2/GEDI/GEDI02_B.002/2019.11.03/GEDI02_B_2019307145231_O05057_03_T05101_02_003_01_V002.h5\n",
      "https://e4ftl01.cr.usgs.gov//GEDI_L1_L2/GEDI/GEDI02_B.002/2019.11.24/GEDI02_B_2019328012216_O05374_02_T01563_02_003_01_V002.h5\n",
      "https://e4ftl01.cr.usgs.gov//GEDI_L1_L2/GEDI/GEDI02_B.002/2019.11.30/GEDI02_B_2019334042200_O05469_03_T03525_02_003_01_V002.h5\n",
      "https://e4ftl01.cr.usgs.gov//GEDI_L1_L2/GEDI/GEDI02_B.002/2020.06.01/GEDI02_B_2020153215302_O08333_02_T02833_02_003_01_V002.h5\n",
      "https://e4ftl01.cr.usgs.gov//GEDI_L1_L2/GEDI/GEDI02_B.002/2020.06.05/GEDI02_B_2020157201832_O08394_02_T01410_02_003_01_V002.h5\n",
      "https://e4ftl01.cr.usgs.gov//GEDI_L1_L2/GEDI/GEDI02_B.002/2020.06.09/GEDI02_B_2020161184358_O08455_02_T04562_02_003_01_V002.h5\n",
      "https://e4ftl01.cr.usgs.gov//GEDI_L1_L2/GEDI/GEDI02_B.002/2020.06.13/GEDI02_B_2020165170923_O08516_02_T03139_02_003_01_V002.h5\n",
      "https://e4ftl01.cr.usgs.gov//GEDI_L1_L2/GEDI/GEDI02_B.002/2020.06.27/GEDI02_B_2020179170313_O08733_03_T03678_02_003_01_V002.h5\n",
      "https://e4ftl01.cr.usgs.gov//GEDI_L1_L2/GEDI/GEDI02_B.002/2020.07.01/GEDI02_B_2020183152831_O08794_03_T02561_02_003_01_V002.h5\n",
      "https://e4ftl01.cr.usgs.gov//GEDI_L1_L2/GEDI/GEDI02_B.002/2020.07.09/GEDI02_B_2020191122040_O08916_03_T01138_02_003_01_V002.h5\n",
      "https://e4ftl01.cr.usgs.gov//GEDI_L1_L2/GEDI/GEDI02_B.002/2021.01.07/GEDI02_B_2021007070555_O11734_02_T06949_02_003_01_V002.h5\n",
      "https://e4ftl01.cr.usgs.gov//GEDI_L1_L2/GEDI/GEDI02_B.002/2021.01.11/GEDI02_B_2021011053157_O11795_02_T11371_02_003_01_V002.h5\n",
      "https://e4ftl01.cr.usgs.gov//GEDI_L1_L2/GEDI/GEDI02_B.002/2021.01.15/GEDI02_B_2021015035754_O11856_02_T07102_02_003_01_V002.h5\n",
      "https://e4ftl01.cr.usgs.gov//GEDI_L1_L2/GEDI/GEDI02_B.002/2021.01.19/GEDI02_B_2021019022350_O11917_02_T07255_02_003_01_V002.h5\n",
      "https://e4ftl01.cr.usgs.gov//GEDI_L1_L2/GEDI/GEDI02_B.002/2021.01.23/GEDI02_B_2021023005016_O11978_02_T05832_02_003_01_V002.h5\n",
      "https://e4ftl01.cr.usgs.gov//GEDI_L1_L2/GEDI/GEDI02_B.002/2021.01.26/GEDI02_B_2021026231743_O12039_02_T09948_02_003_01_V002.h5\n",
      "https://e4ftl01.cr.usgs.gov//GEDI_L1_L2/GEDI/GEDI02_B.002/2021.05.04/GEDI02_B_2021124140303_O13552_03_T11252_02_003_01_V002.h5\n",
      "https://e4ftl01.cr.usgs.gov//GEDI_L1_L2/GEDI/GEDI02_B.002/2021.05.08/GEDI02_B_2021128123009_O13613_03_T06830_02_003_01_V002.h5\n",
      "https://e4ftl01.cr.usgs.gov//GEDI_L1_L2/GEDI/GEDI02_B.002/2021.05.12/GEDI02_B_2021132105712_O13674_03_T00985_02_003_01_V002.h5\n",
      "https://e4ftl01.cr.usgs.gov//GEDI_L1_L2/GEDI/GEDI02_B.002/2021.05.20/GEDI02_B_2021140075110_O13796_03_T06677_02_003_01_V002.h5\n",
      "https://e4ftl01.cr.usgs.gov//GEDI_L1_L2/GEDI/GEDI02_B.002/2021.05.24/GEDI02_B_2021144061826_O13857_03_T07947_02_003_01_V002.h5\n",
      "https://e4ftl01.cr.usgs.gov//GEDI_L1_L2/GEDI/GEDI02_B.002/2021.05.28/GEDI02_B_2021148044543_O13918_03_T10793_02_003_01_V002.h5\n",
      "https://e4ftl01.cr.usgs.gov//GEDI_L1_L2/GEDI/GEDI02_B.002/2021.06.26/GEDI02_B_2021177114430_O14372_02_T00293_02_003_01_V002.h5\n",
      "https://e4ftl01.cr.usgs.gov//GEDI_L1_L2/GEDI/GEDI02_B.002/2021.07.04/GEDI02_B_2021185084021_O14494_02_T09795_02_003_01_V002.h5\n",
      "https://e4ftl01.cr.usgs.gov//GEDI_L1_L2/GEDI/GEDI02_B.002/2021.08.27/GEDI02_B_2021239163327_O15336_03_T05254_02_003_01_V002.h5\n",
      "https://e4ftl01.cr.usgs.gov//GEDI_L1_L2/GEDI/GEDI02_B.002/2021.08.31/GEDI02_B_2021243150209_O15397_03_T09217_02_003_01_V002.h5\n",
      "https://e4ftl01.cr.usgs.gov//GEDI_L1_L2/GEDI/GEDI02_B.002/2021.09.10/GEDI02_B_2021253054806_O15546_02_T10254_02_003_01_V002.h5\n",
      "https://e4ftl01.cr.usgs.gov//GEDI_L1_L2/GEDI/GEDI02_B.002/2021.09.14/GEDI02_B_2021257041703_O15607_02_T04103_02_003_01_V002.h5\n",
      "https://e4ftl01.cr.usgs.gov//GEDI_L1_L2/GEDI/GEDI02_B.002/2021.10.22/GEDI02_B_2021295182220_O16205_03_T09676_02_003_01_V002.h5\n",
      "https://e4ftl01.cr.usgs.gov//GEDI_L1_L2/GEDI/GEDI02_B.002/2021.10.26/GEDI02_B_2021299165008_O16266_03_T11099_02_003_01_V002.h5\n",
      "https://e4ftl01.cr.usgs.gov//GEDI_L1_L2/GEDI/GEDI02_B.002/2021.11.03/GEDI02_B_2021307134515_O16388_03_T06371_02_003_01_V002.h5\n",
      "https://e4ftl01.cr.usgs.gov//GEDI_L1_L2/GEDI/GEDI02_B.002/2021.11.17/GEDI02_B_2021321025725_O16598_02_T05985_02_003_01_V002.h5\n",
      "https://e4ftl01.cr.usgs.gov//GEDI_L1_L2/GEDI/GEDI02_B.002/2021.11.21/GEDI02_B_2021325012555_O16659_02_T07102_02_003_01_V002.h5\n",
      "https://e4ftl01.cr.usgs.gov//GEDI_L1_L2/GEDI/GEDI02_B.002/2022.01.03/GEDI02_B_2022003081947_O17330_02_T06949_02_003_01_V002.h5\n",
      "https://e4ftl01.cr.usgs.gov//GEDI_L1_L2/GEDI/GEDI02_B.002/2022.01.07/GEDI02_B_2022007064340_O17391_02_T07408_02_003_01_V002.h5\n",
      "https://e4ftl01.cr.usgs.gov//GEDI_L1_L2/GEDI/GEDI02_B.002/2022.01.13/GEDI02_B_2022013094432_O17486_03_T06524_02_003_01_V002.h5\n",
      "https://e4ftl01.cr.usgs.gov//GEDI_L1_L2/GEDI/GEDI02_B.002/2022.01.17/GEDI02_B_2022017080946_O17547_03_T10946_02_003_01_V002.h5\n",
      "https://e4ftl01.cr.usgs.gov//GEDI_L1_L2/GEDI/GEDI02_B.002/2022.01.21/GEDI02_B_2022021063444_O17608_03_T08253_02_003_01_V002.h5\n",
      "https://e4ftl01.cr.usgs.gov//GEDI_L1_L2/GEDI/GEDI02_B.002/2022.02.18/GEDI02_B_2022049135950_O18047_02_T08678_02_003_02_V002.h5\n",
      "https://e4ftl01.cr.usgs.gov//GEDI_L1_L2/GEDI/GEDI02_B.002/2022.02.28/GEDI02_B_2022059152509_O18203_03_T08100_02_003_01_V002.h5\n",
      "https://e4ftl01.cr.usgs.gov//GEDI_L1_L2/GEDI/GEDI02_B.002/2022.04.09/GEDI02_B_2022099180724_O18825_02_T08831_02_003_01_V002.h5\n",
      "https://e4ftl01.cr.usgs.gov//WORKING/BRWS/Browse.001/2022.08.31/GEDI02_B_2022105210714_O18920_03_T09370_02_003_01_V002.png\n",
      "https://e4ftl01.cr.usgs.gov//WORKING/BRWS/Browse.001/2022.09.22/GEDI02_B_2022136090323_O19393_03_T05101_02_003_01_V002.png\n",
      "https://e4ftl01.cr.usgs.gov//GEDI_L1_L2/GEDI/GEDI02_B.002/2022.06.13/GEDI02_B_2022164162725_O19832_02_T02833_02_003_02_V002.h5\n",
      "https://e4ftl01.cr.usgs.gov//GEDI_L1_L2/GEDI/GEDI02_B.002/2022.06.23/GEDI02_B_2022174175204_O19988_03_T10793_02_003_02_V002.h5\n",
      "https://e4ftl01.cr.usgs.gov//GEDI_L1_L2/GEDI/GEDI02_B.002/2022.06.27/GEDI02_B_2022178161611_O20049_03_T02714_02_003_02_V002.h5\n",
      "https://e4ftl01.cr.usgs.gov//GEDI_L1_L2/GEDI/GEDI02_B.002/2022.07.18/GEDI02_B_2022199024943_O20366_02_T09795_02_003_02_V002.h5\n",
      "https://e4ftl01.cr.usgs.gov//GEDI_L1_L2/GEDI/GEDI02_B.002/2022.07.28/GEDI02_B_2022209041217_O20522_03_T11099_02_003_02_V002.h5\n",
      "https://e4ftl01.cr.usgs.gov//GEDI_L1_L2/GEDI/GEDI02_B.002/2022.08.13/GEDI02_B_2022225161639_O20778_02_T02986_02_003_01_V002.h5\n",
      "https://e4ftl01.cr.usgs.gov//GEDI_L1_L2/GEDI/GEDI02_B.002/2022.08.19/GEDI02_B_2022231191529_O20873_03_T10946_02_003_01_V002.h5\n",
      "https://e4ftl01.cr.usgs.gov//GEDI_L1_L2/GEDI/GEDI02_B.002/2022.09.09/GEDI02_B_2022252054458_O21190_02_T04562_02_003_01_V002.h5\n",
      "https://e4ftl01.cr.usgs.gov//GEDI_L1_L2/GEDI/GEDI02_B.002/2022.09.15/GEDI02_B_2022258084401_O21285_03_T00985_02_003_01_V002.h5\n",
      "https://e4ftl01.cr.usgs.gov//GEDI_L1_L2/GEDI/GEDI02_B.002/2022.10.01/GEDI02_B_2022274204755_O21541_02_T00140_02_003_01_V002.h5\n",
      "https://e4ftl01.cr.usgs.gov//GEDI_L1_L2/GEDI/GEDI02_B.002/2022.10.11/GEDI02_B_2022284221313_O21697_03_T02408_02_003_01_V002.h5\n",
      "https://e4ftl01.cr.usgs.gov//GEDI_L1_L2/GEDI/GEDI02_B.002/2022.11.19/GEDI02_B_2022323070140_O22292_03_T08100_02_003_01_V002.h5\n",
      "https://e4ftl01.cr.usgs.gov//GEDI_L1_L2/GEDI/GEDI02_B.002/2022.12.09/GEDI02_B_2022343173235_O22609_02_T10101_02_003_01_V002.h5\n",
      "https://e4ftl01.cr.usgs.gov//GEDI_L1_L2/GEDI/GEDI02_B.002/2022.12.19/GEDI02_B_2022353185624_O22765_03_T05407_02_003_01_V002.h5\n",
      "https://e4ftl01.cr.usgs.gov//GEDI_L1_L2/GEDI/GEDI02_B.002/2023.01.13/GEDI02_B_2023013035408_O23143_02_T05832_02_003_01_V002.h5\n",
      "https://e4ftl01.cr.usgs.gov//GEDI_L1_L2/GEDI/GEDI02_B.002/2023.01.19/GEDI02_B_2023019065252_O23238_03_T00832_02_003_01_V002.h5\n",
      "https://e4ftl01.cr.usgs.gov//GEDI_L1_L2/GEDI/GEDI02_B.002/2023.02.04/GEDI02_B_2023035185853_O23494_02_T05679_02_003_01_V002.h5\n",
      "https://e4ftl01.cr.usgs.gov//GEDI_L1_L2/GEDI/GEDI02_B.002/2023.02.08/GEDI02_B_2023039172332_O23555_02_T01563_02_003_01_V002.h5\n"
     ]
    }
   ],
   "source": [
    "for g in granules:\n",
    "    print(g)"
   ]
  }
 ],
 "metadata": {
  "kernelspec": {
   "display_name": "Python 3 (ipykernel)",
   "language": "python",
   "name": "python3"
  },
  "language_info": {
   "codemirror_mode": {
    "name": "ipython",
    "version": 3
   },
   "file_extension": ".py",
   "mimetype": "text/x-python",
   "name": "python",
   "nbconvert_exporter": "python",
   "pygments_lexer": "ipython3",
   "version": "3.12.4"
  }
 },
 "nbformat": 4,
 "nbformat_minor": 5
}
